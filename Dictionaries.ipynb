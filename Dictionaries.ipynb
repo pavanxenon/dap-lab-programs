{
 "cells": [
  {
   "cell_type": "code",
   "execution_count": 1,
   "metadata": {},
   "outputs": [
    {
     "name": "stdout",
     "output_type": "stream",
     "text": [
      "pavan\n",
      "phd\n"
     ]
    }
   ],
   "source": [
    "dict={'name':'pavan','designation':'AsP','qual':'phd','univ':'cmr'}\n",
    "print(dict['name'])\n",
    "\n",
    "\n",
    "print(dict['qual'])"
   ]
  },
  {
   "cell_type": "code",
   "execution_count": 2,
   "metadata": {},
   "outputs": [
    {
     "name": "stdout",
     "output_type": "stream",
     "text": [
      "Parimal\n",
      "cse7sem\n"
     ]
    }
   ],
   "source": [
    "dict={'name':'pavan','designation':'AsP','qual':'phd','univ':'cmr'}\n",
    "\n",
    "dict['name']='Parimal'\n",
    "\n",
    "print(dict['name'])\n",
    "\n",
    "dict['class']='cse7sem'\n",
    "\n",
    "print(dict['class'])\n",
    "\n"
   ]
  },
  {
   "cell_type": "code",
   "execution_count": 3,
   "metadata": {},
   "outputs": [],
   "source": [
    "dict={'name':'pavan','designation':'AsP','qual':'phd','univ':'cmr'}\n",
    "\n",
    "\n",
    "del dict['designation']\n",
    "\n",
    "#print(dict['designation'])\n",
    "\n",
    "dict.clear()\n",
    "\n",
    "#print(dict['name'])\n",
    "\n",
    "del dict"
   ]
  },
  {
   "cell_type": "code",
   "execution_count": 5,
   "metadata": {},
   "outputs": [
    {
     "name": "stdout",
     "output_type": "stream",
     "text": [
      "kumar\n",
      "4\n"
     ]
    }
   ],
   "source": [
    "dict={'name':'pavan','designation':'AsP','qual':'phd','univ':'cmr', 'name':'kumar'}\n",
    "\n",
    "\n",
    "print(dict['name'])\n",
    "\n",
    "print(len(dict))"
   ]
  },
  {
   "cell_type": "code",
   "execution_count": 6,
   "metadata": {},
   "outputs": [
    {
     "name": "stdout",
     "output_type": "stream",
     "text": [
      "dict_values(['kumar', 'AsP', 'phd', 'cmr'])\n",
      "dict_items([('name', 'kumar'), ('designation', 'AsP'), ('qual', 'phd'), ('univ', 'cmr')])\n",
      "dict_keys(['name', 'designation', 'qual', 'univ'])\n"
     ]
    }
   ],
   "source": [
    "dict={'name':'pavan','designation':'AsP','qual':'phd','univ':'cmr', 'name':'kumar'}\n",
    "\n",
    "\n",
    "print(dict.values())\n",
    "\n",
    "print(dict.items())\n",
    "\n",
    "print(dict.keys())"
   ]
  },
  {
   "cell_type": "code",
   "execution_count": 7,
   "metadata": {},
   "outputs": [
    {
     "name": "stdout",
     "output_type": "stream",
     "text": [
      "kumar\n",
      "nothing\n"
     ]
    }
   ],
   "source": [
    "dict={'name':'pavan','designation':'AsP','qual':'phd','univ':'cmr', 'name':'kumar'}\n",
    "\n",
    "\n",
    "print(dict['name'])\n",
    "\n",
    "print(dict.get('edu',\"nothing\"))\n",
    "\n",
    "\n"
   ]
  },
  {
   "cell_type": "code",
   "execution_count": 8,
   "metadata": {},
   "outputs": [
    {
     "name": "stdout",
     "output_type": "stream",
     "text": [
      "kumar\n",
      "4\n"
     ]
    }
   ],
   "source": [
    "dict={'name':'pavan','designation':'AsP','qual':'phd','univ':'cmr', 'name':'kumar'}\n",
    "\n",
    "\n",
    "dict2=dict.copy()\n",
    "\n",
    "print(dict2['name'])\n",
    "\n",
    "print(len(dict2))"
   ]
  },
  {
   "cell_type": "code",
   "execution_count": 9,
   "metadata": {},
   "outputs": [
    {
     "name": "stdout",
     "output_type": "stream",
     "text": [
      "{'name': 'kumar', 'designation': 'AsP', 'qual': 'phd', 'univ': 'cmr'}\n",
      "{'edu': 'btech-mtech', 'students': '7sem'}\n",
      "{'name': 'kumar', 'designation': 'AsP', 'qual': 'phd', 'univ': 'cmr', 'edu': 'btech-mtech', 'students': '7sem'}\n"
     ]
    }
   ],
   "source": [
    "dict={'name':'pavan','designation':'AsP','qual':'phd','univ':'cmr', 'name':'kumar'}\n",
    "\n",
    "\n",
    "dict2={'edu':'btech-mtech','students':'7sem'}\n",
    "\n",
    "print(dict)\n",
    "print(dict2)\n",
    "\n",
    "dict.update(dict2)\n",
    "\n",
    "print(dict)"
   ]
  },
  {
   "cell_type": "code",
   "execution_count": null,
   "metadata": {},
   "outputs": [],
   "source": []
  }
 ],
 "metadata": {
  "kernelspec": {
   "display_name": "Python 3",
   "language": "python",
   "name": "python3"
  },
  "language_info": {
   "codemirror_mode": {
    "name": "ipython",
    "version": 3
   },
   "file_extension": ".py",
   "mimetype": "text/x-python",
   "name": "python",
   "nbconvert_exporter": "python",
   "pygments_lexer": "ipython3",
   "version": "3.8.5"
  }
 },
 "nbformat": 4,
 "nbformat_minor": 5
}
